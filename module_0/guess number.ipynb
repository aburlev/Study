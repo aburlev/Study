{
 "cells": [
  {
   "cell_type": "code",
   "execution_count": 34,
   "metadata": {},
   "outputs": [],
   "source": [
    "import math\n",
    "import numpy as np\n",
    "\n",
    "\n",
    "def score_game(game_core):\n",
    "    '''Запускаем игру 1000 раз, чтобы узнать, как быстро игра угадывает число'''\n",
    "    count_ls = []\n",
    "    np.random.seed(1)  # фиксируем RANDOM SEED, чтобы ваш эксперимент был воспроизводим!\n",
    "    random_array = np.random.randint(1,101, size=(1000))\n",
    "    for number in random_array:\n",
    "        count_ls.append(game_core(number))\n",
    "    score = int(np.mean(count_ls))\n",
    "    print('Ваш алгоритм угадывает число в среднем за {} попыток'.format(score))\n",
    "    return\n",
    "\n",
    "\n",
    "def game_core_v3(number):\n",
    "    '''На каждом шаге определяем середину интервала поиска, дальнейший поиск ведем\n",
    "    в новом интервале, формируя его в зависимости оттого больше, или меньше\n",
    "    искомое число середины интервала. Когда интервал сокращается до 3 и менее чисел,\n",
    "    искомое число определяется за 1 шаг.\n",
    "    Функция принимает загаданное число и возвращает число попыток'''\n",
    "    count = 0                  # счетчик попыток\n",
    "    start_range = 1            # начало интервала\n",
    "    end_range = 100            # конец интервала\n",
    "    \n",
    "    while end_range-start_range > 3:\n",
    "        middle_range = math.trunc((start_range+end_range) / 2) #середина интервала\n",
    "        count += 1\n",
    "        if middle_range == number:\n",
    "            return count       # выход из функции, искомое число равно middle_range\n",
    "        elif middle_range > number:\n",
    "            end_range = middle_range - 1\n",
    "        elif middle_range < number:\n",
    "            start_range = middle_range + 1\n",
    "        \n",
    "    middle_range = math.trunc((start_range+end_range) / 2)\n",
    "    count += 1\n",
    "    if middle_range == number:\n",
    "        return count           # выход из функции, искомое число равно middle_range\n",
    "    elif middle_range > number:\n",
    "        middle_range -=1             \n",
    "        return count           # выход из функции, искомое число равно middle_range-1       \n",
    "    elif middle_range < number:\n",
    "        middle_range +=1             \n",
    "        return count           # выход из функции, искомое число равно middle_range+1"
   ]
  },
  {
   "cell_type": "code",
   "execution_count": 35,
   "metadata": {},
   "outputs": [
    {
     "name": "stdout",
     "output_type": "stream",
     "text": [
      "Ваш алгоритм угадывает число в среднем за 5 попыток\n"
     ]
    }
   ],
   "source": [
    "score_game(game_core_v3)"
   ]
  },
  {
   "cell_type": "code",
   "execution_count": null,
   "metadata": {},
   "outputs": [],
   "source": []
  }
 ],
 "metadata": {
  "kernelspec": {
   "display_name": "Python 3",
   "language": "python",
   "name": "python3"
  },
  "language_info": {
   "codemirror_mode": {
    "name": "ipython",
    "version": 3
   },
   "file_extension": ".py",
   "mimetype": "text/x-python",
   "name": "python",
   "nbconvert_exporter": "python",
   "pygments_lexer": "ipython3",
   "version": "3.8.3"
  }
 },
 "nbformat": 4,
 "nbformat_minor": 4
}
