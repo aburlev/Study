{
 "cells": [
  {
   "cell_type": "code",
   "execution_count": 2,
   "metadata": {},
   "outputs": [],
   "source": [
    "import pandas as pd\n",
    "import matplotlib.pyplot as plt\n",
    "import seaborn as sns\n",
    "from itertools import combinations\n",
    "from scipy.stats import ttest_ind\n",
    "\n",
    "pd.set_option('display.max_columns', 30) # показывать больше колонок"
   ]
  },
  {
   "cell_type": "code",
   "execution_count": 3,
   "metadata": {},
   "outputs": [],
   "source": [
    "children = pd.read_csv('stud_math.csv')"
   ]
  },
  {
   "cell_type": "code",
   "execution_count": 4,
   "metadata": {},
   "outputs": [
    {
     "name": "stdout",
     "output_type": "stream",
     "text": [
      "<class 'pandas.core.frame.DataFrame'>\n",
      "RangeIndex: 395 entries, 0 to 394\n",
      "Data columns (total 30 columns):\n",
      " #   Column               Non-Null Count  Dtype  \n",
      "---  ------               --------------  -----  \n",
      " 0   school               395 non-null    object \n",
      " 1   sex                  395 non-null    object \n",
      " 2   age                  395 non-null    int64  \n",
      " 3   address              378 non-null    object \n",
      " 4   famsize              368 non-null    object \n",
      " 5   Pstatus              350 non-null    object \n",
      " 6   Medu                 392 non-null    float64\n",
      " 7   Fedu                 371 non-null    float64\n",
      " 8   Mjob                 376 non-null    object \n",
      " 9   Fjob                 359 non-null    object \n",
      " 10  reason               378 non-null    object \n",
      " 11  guardian             364 non-null    object \n",
      " 12  traveltime           367 non-null    float64\n",
      " 13  studytime            388 non-null    float64\n",
      " 14  failures             373 non-null    float64\n",
      " 15  schoolsup            386 non-null    object \n",
      " 16  famsup               356 non-null    object \n",
      " 17  paid                 355 non-null    object \n",
      " 18  activities           381 non-null    object \n",
      " 19  nursery              379 non-null    object \n",
      " 20  studytime, granular  388 non-null    float64\n",
      " 21  higher               375 non-null    object \n",
      " 22  internet             361 non-null    object \n",
      " 23  romantic             364 non-null    object \n",
      " 24  famrel               368 non-null    float64\n",
      " 25  freetime             384 non-null    float64\n",
      " 26  goout                387 non-null    float64\n",
      " 27  health               380 non-null    float64\n",
      " 28  absences             383 non-null    float64\n",
      " 29  score                389 non-null    float64\n",
      "dtypes: float64(12), int64(1), object(17)\n",
      "memory usage: 92.7+ KB\n"
     ]
    }
   ],
   "source": [
    "children.info()"
   ]
  },
  {
   "cell_type": "markdown",
   "metadata": {},
   "source": [
    "Мы имеем хорошо заполненные данные, количество пустых значений не превышает 10%"
   ]
  },
  {
   "cell_type": "markdown",
   "metadata": {},
   "source": [
    "# Предобработка"
   ]
  },
  {
   "cell_type": "code",
   "execution_count": 5,
   "metadata": {},
   "outputs": [],
   "source": [
    "# функция заполнения числовых пропусков\n",
    "def fillna_numbers(column):\n",
    "    mean_column = round(children.loc[:, column].mean(), 0)\n",
    "    children.loc[:, column] = children.loc[:, column].fillna(mean_column)\n",
    "\n",
    "\n",
    "# функция перевода ответов \"да/нет\" в цифровой вид\n",
    "def yes_no_function(column):\n",
    "    children.loc[:, column] = children.loc[:, column].apply(\n",
    "        lambda x: 1 if x == 'yes' else 0 if x == 'no' else None)\n",
    "\n",
    "\n",
    "# функция построения графика по типу boxplot\n",
    "def get_boxplot(column):\n",
    "    fig, axes = plt.subplots(figsize=(14, 4))\n",
    "    sns.boxplot(x=column, y='score',\n",
    "                data=children,\n",
    "                ax=axes)\n",
    "    plt.xticks(rotation=45)\n",
    "    axes.set_title('Boxplot for ' + column)\n",
    "    plt.show()\n",
    "\n",
    "\n",
    "# функция определения статически значимых различий\n",
    "def get_stat_dif(column):\n",
    "    cols = children.loc[:, column].value_counts().index\n",
    "    combinations_all = list(combinations(cols, 2))\n",
    "    for comb in combinations_all:\n",
    "        if ttest_ind(children.loc[children.loc[:, column] == comb[0], 'score'],\n",
    "                     children.loc[children.loc[:, column] == comb[1], 'score']).pvalue \\\n",
    "                     <= 0.05/len(combinations_all):  # Учли поправку Бонферони\n",
    "            print('Найдены статистически значимые различия для колонки', column)\n",
    "            break"
   ]
  },
  {
   "cell_type": "markdown",
   "metadata": {},
   "source": [
    "## Рассмотрим данные в стобцах"
   ]
  },
  {
   "cell_type": "code",
   "execution_count": 6,
   "metadata": {},
   "outputs": [
    {
     "data": {
      "text/plain": [
       "GP    349\n",
       "MS     46\n",
       "Name: school, dtype: int64"
      ]
     },
     "metadata": {},
     "output_type": "display_data"
    },
    {
     "data": {
      "text/plain": [
       "F    208\n",
       "M    187\n",
       "Name: sex, dtype: int64"
      ]
     },
     "metadata": {},
     "output_type": "display_data"
    },
    {
     "data": {
      "text/plain": [
       "16    104\n",
       "17     98\n",
       "18     82\n",
       "15     82\n",
       "19     24\n",
       "20      3\n",
       "22      1\n",
       "21      1\n",
       "Name: age, dtype: int64"
      ]
     },
     "metadata": {},
     "output_type": "display_data"
    },
    {
     "data": {
      "text/plain": [
       "U    295\n",
       "R     83\n",
       "Name: address, dtype: int64"
      ]
     },
     "metadata": {},
     "output_type": "display_data"
    },
    {
     "data": {
      "text/plain": [
       "GT3    261\n",
       "LE3    107\n",
       "Name: famsize, dtype: int64"
      ]
     },
     "metadata": {},
     "output_type": "display_data"
    },
    {
     "data": {
      "text/plain": [
       "T    314\n",
       "A     36\n",
       "Name: Pstatus, dtype: int64"
      ]
     },
     "metadata": {},
     "output_type": "display_data"
    },
    {
     "data": {
      "text/plain": [
       "4.0    131\n",
       "2.0    102\n",
       "3.0     97\n",
       "1.0     59\n",
       "0.0      3\n",
       "Name: Medu, dtype: int64"
      ]
     },
     "metadata": {},
     "output_type": "display_data"
    },
    {
     "data": {
      "text/plain": [
       "2.0     106\n",
       "3.0      96\n",
       "4.0      88\n",
       "1.0      78\n",
       "0.0       2\n",
       "40.0      1\n",
       "Name: Fedu, dtype: int64"
      ]
     },
     "metadata": {},
     "output_type": "display_data"
    },
    {
     "data": {
      "text/plain": [
       "other       133\n",
       "services     98\n",
       "at_home      58\n",
       "teacher      55\n",
       "health       32\n",
       "Name: Mjob, dtype: int64"
      ]
     },
     "metadata": {},
     "output_type": "display_data"
    },
    {
     "data": {
      "text/plain": [
       "other       197\n",
       "services    102\n",
       "teacher      29\n",
       "at_home      16\n",
       "health       15\n",
       "Name: Fjob, dtype: int64"
      ]
     },
     "metadata": {},
     "output_type": "display_data"
    },
    {
     "data": {
      "text/plain": [
       "course        137\n",
       "home          104\n",
       "reputation    103\n",
       "other          34\n",
       "Name: reason, dtype: int64"
      ]
     },
     "metadata": {},
     "output_type": "display_data"
    },
    {
     "data": {
      "text/plain": [
       "mother    250\n",
       "father     86\n",
       "other      28\n",
       "Name: guardian, dtype: int64"
      ]
     },
     "metadata": {},
     "output_type": "display_data"
    },
    {
     "data": {
      "text/plain": [
       "1.0    242\n",
       "2.0     96\n",
       "3.0     22\n",
       "4.0      7\n",
       "Name: traveltime, dtype: int64"
      ]
     },
     "metadata": {},
     "output_type": "display_data"
    },
    {
     "data": {
      "text/plain": [
       "2.0    194\n",
       "1.0    103\n",
       "3.0     64\n",
       "4.0     27\n",
       "Name: studytime, dtype: int64"
      ]
     },
     "metadata": {},
     "output_type": "display_data"
    },
    {
     "data": {
      "text/plain": [
       "0.0    293\n",
       "1.0     49\n",
       "2.0     16\n",
       "3.0     15\n",
       "Name: failures, dtype: int64"
      ]
     },
     "metadata": {},
     "output_type": "display_data"
    },
    {
     "data": {
      "text/plain": [
       "no     335\n",
       "yes     51\n",
       "Name: schoolsup, dtype: int64"
      ]
     },
     "metadata": {},
     "output_type": "display_data"
    },
    {
     "data": {
      "text/plain": [
       "yes    219\n",
       "no     137\n",
       "Name: famsup, dtype: int64"
      ]
     },
     "metadata": {},
     "output_type": "display_data"
    },
    {
     "data": {
      "text/plain": [
       "no     200\n",
       "yes    155\n",
       "Name: paid, dtype: int64"
      ]
     },
     "metadata": {},
     "output_type": "display_data"
    },
    {
     "data": {
      "text/plain": [
       "yes    195\n",
       "no     186\n",
       "Name: activities, dtype: int64"
      ]
     },
     "metadata": {},
     "output_type": "display_data"
    },
    {
     "data": {
      "text/plain": [
       "yes    300\n",
       "no      79\n",
       "Name: nursery, dtype: int64"
      ]
     },
     "metadata": {},
     "output_type": "display_data"
    },
    {
     "data": {
      "text/plain": [
       "-6.0     194\n",
       "-3.0     103\n",
       "-9.0      64\n",
       "-12.0     27\n",
       "Name: studytime, granular, dtype: int64"
      ]
     },
     "metadata": {},
     "output_type": "display_data"
    },
    {
     "data": {
      "text/plain": [
       "yes    356\n",
       "no      19\n",
       "Name: higher, dtype: int64"
      ]
     },
     "metadata": {},
     "output_type": "display_data"
    },
    {
     "data": {
      "text/plain": [
       "yes    305\n",
       "no      56\n",
       "Name: internet, dtype: int64"
      ]
     },
     "metadata": {},
     "output_type": "display_data"
    },
    {
     "data": {
      "text/plain": [
       "no     240\n",
       "yes    124\n",
       "Name: romantic, dtype: int64"
      ]
     },
     "metadata": {},
     "output_type": "display_data"
    },
    {
     "data": {
      "text/plain": [
       " 4.0    182\n",
       " 5.0     99\n",
       " 3.0     62\n",
       " 2.0     17\n",
       " 1.0      7\n",
       "-1.0      1\n",
       "Name: famrel, dtype: int64"
      ]
     },
     "metadata": {},
     "output_type": "display_data"
    },
    {
     "data": {
      "text/plain": [
       "3.0    153\n",
       "4.0    112\n",
       "2.0     63\n",
       "5.0     38\n",
       "1.0     18\n",
       "Name: freetime, dtype: int64"
      ]
     },
     "metadata": {},
     "output_type": "display_data"
    },
    {
     "data": {
      "text/plain": [
       "3.0    127\n",
       "2.0    101\n",
       "4.0     84\n",
       "5.0     52\n",
       "1.0     23\n",
       "Name: goout, dtype: int64"
      ]
     },
     "metadata": {},
     "output_type": "display_data"
    },
    {
     "data": {
      "text/plain": [
       "5.0    138\n",
       "3.0     89\n",
       "4.0     63\n",
       "1.0     47\n",
       "2.0     43\n",
       "Name: health, dtype: int64"
      ]
     },
     "metadata": {},
     "output_type": "display_data"
    },
    {
     "data": {
      "text/plain": [
       "0.0      111\n",
       "2.0       60\n",
       "4.0       53\n",
       "6.0       31\n",
       "8.0       21\n",
       "10.0      17\n",
       "12.0      12\n",
       "14.0      12\n",
       "3.0        8\n",
       "16.0       7\n",
       "7.0        6\n",
       "5.0        5\n",
       "18.0       5\n",
       "20.0       4\n",
       "22.0       3\n",
       "9.0        3\n",
       "1.0        3\n",
       "15.0       2\n",
       "13.0       2\n",
       "11.0       2\n",
       "25.0       1\n",
       "54.0       1\n",
       "385.0      1\n",
       "26.0       1\n",
       "56.0       1\n",
       "24.0       1\n",
       "212.0      1\n",
       "21.0       1\n",
       "75.0       1\n",
       "30.0       1\n",
       "19.0       1\n",
       "38.0       1\n",
       "40.0       1\n",
       "23.0       1\n",
       "17.0       1\n",
       "28.0       1\n",
       "Name: absences, dtype: int64"
      ]
     },
     "metadata": {},
     "output_type": "display_data"
    },
    {
     "data": {
      "text/plain": [
       "50.0     54\n",
       "55.0     46\n",
       "0.0      37\n",
       "75.0     33\n",
       "65.0     31\n",
       "40.0     31\n",
       "60.0     31\n",
       "70.0     27\n",
       "45.0     27\n",
       "80.0     16\n",
       "30.0     15\n",
       "90.0     12\n",
       "35.0      9\n",
       "25.0      7\n",
       "85.0      6\n",
       "95.0      5\n",
       "100.0     1\n",
       "20.0      1\n",
       "Name: score, dtype: int64"
      ]
     },
     "metadata": {},
     "output_type": "display_data"
    }
   ],
   "source": [
    "for col in children.columns:\n",
    "    display(children.loc[:, col].value_counts())"
   ]
  },
  {
   "cell_type": "markdown",
   "metadata": {},
   "source": [
    "Визуальный просмотр данных показал, что данные практически полностью \"чистые\".\n",
    "Неверно заполнено 1 значение в колонке Fedu и в колонке famrel. Удалим их.\n",
    "Также отдельно рассмотрим absences и score на предмет выбросов."
   ]
  },
  {
   "cell_type": "code",
   "execution_count": 7,
   "metadata": {},
   "outputs": [],
   "source": [
    "children = children[(children.Fedu != 40.0) & (children.famrel != -1.0)]"
   ]
  },
  {
   "cell_type": "code",
   "execution_count": 8,
   "metadata": {
    "scrolled": true
   },
   "outputs": [
    {
     "data": {
      "text/plain": [
       "<matplotlib.axes._subplots.AxesSubplot at 0xb667e20>"
      ]
     },
     "metadata": {},
     "output_type": "display_data"
    },
    {
     "data": {
      "image/png": "[encoded data removed]",
      "text/plain": [
       "<Figure size 432x288 with 1 Axes>"
      ]
     },
     "metadata": {
      "needs_background": "light"
     },
     "output_type": "display_data"
    }
   ],
   "source": [
    "display(children.score.hist())"
   ]
  },
  {
   "cell_type": "code",
   "execution_count": 9,
   "metadata": {},
   "outputs": [
    {
     "data": {
      "text/plain": [
       "37"
      ]
     },
     "metadata": {},
     "output_type": "display_data"
    }
   ],
   "source": [
    "display(children[children.score == 0]['score'].count())"
   ]
  },
  {
   "cell_type": "markdown",
   "metadata": {},
   "source": [
    "37 учеников имеют оценку по метематике \"0\". Просмотр остальных данных не приводит к мысле, что это прогульщики, \"проблемные\" дети абсолютно ничего непонимающие в математике. Наиболее вероятно, что данные ученики на данный момент не сдавали экзамен. Уберем данные этих учеников из датафрейма. "
   ]
  },
  {
   "cell_type": "code",
   "execution_count": 10,
   "metadata": {},
   "outputs": [],
   "source": [
    "children = children[children.score > 0]"
   ]
  },
  {
   "cell_type": "code",
   "execution_count": 11,
   "metadata": {},
   "outputs": [
    {
     "name": "stdout",
     "output_type": "stream",
     "text": [
      "25-й перцентиль: 45.0, 75-й перцентиль: 70.0, IQR: 25.0,  Границы выбросов: [7.5, 107.5]. \n",
      "Минимальная оценка 20.0 \n",
      "Максимальная оценка 100.0\n"
     ]
    }
   ],
   "source": [
    "IQR = children.score.quantile(0.75) - children.score.quantile(0.25)\n",
    "perc25 = children.score.quantile(0.25)\n",
    "perc75 = children.score.quantile(0.75)\n",
    "print('25-й перцентиль: {},'.format(perc25), '75-й перцентиль: {},'.format(perc75),\n",
    "      'IQR: {}, '.format(IQR), 'Границы выбросов: [{}, {}].'.format(perc25 - 1.5*IQR, perc75 + 1.5*IQR),\n",
    "      '\\nМинимальная оценка {}'.format(children.score.min()), '\\nМаксимальная оценка {}'.format(children.score.max()))"
   ]
  },
  {
   "cell_type": "markdown",
   "metadata": {},
   "source": [
    "Выбросов не обнаружено"
   ]
  },
  {
   "cell_type": "code",
   "execution_count": 12,
   "metadata": {},
   "outputs": [
    {
     "data": {
      "text/plain": [
       "<matplotlib.axes._axes.Axes at 0xb7490d0>"
      ]
     },
     "metadata": {},
     "output_type": "display_data"
    },
    {
     "data": {
      "image/png": "[encoded data removed]",
      "text/plain": [
       "<Figure size 432x288 with 1 Axes>"
      ]
     },
     "metadata": {
      "needs_background": "light"
     },
     "output_type": "display_data"
    }
   ],
   "source": [
    "fig = plt.figure()\n",
    "axes = fig.add_axes([0, 0, 1, 1])\n",
    "axes.set_ylim(0,350)\n",
    "display(children.absences.hist())"
   ]
  },
  {
   "cell_type": "markdown",
   "metadata": {},
   "source": [
    "Имеются аномальные значения"
   ]
  },
  {
   "cell_type": "code",
   "execution_count": 13,
   "metadata": {},
   "outputs": [
    {
     "name": "stdout",
     "output_type": "stream",
     "text": [
      "25-й перцентиль: 2.0, 75-й перцентиль: 8.0, IQR: 6.0,  Границы выбросов: [-7.0, 17.0]. \n",
      "Минимальное кол-во пропусков 0.0 \n",
      "Максимальное кол-во пропусков 385.0\n"
     ]
    }
   ],
   "source": [
    "IQR = children.absences.quantile(0.75) - children.absences.quantile(0.25)\n",
    "perc25 = children.absences.quantile(0.25)\n",
    "perc75 = children.absences.quantile(0.75)\n",
    "print('25-й перцентиль: {},'.format(perc25), '75-й перцентиль: {},'.format(perc75),\n",
    "      'IQR: {}, '.format(IQR),\n",
    "      'Границы выбросов: [{}, {}].'.format(perc25 - 1.5*IQR, perc75 + 1.5*IQR),\n",
    "      '\\nМинимальное кол-во пропусков {}'.format(children.absences.min()),\n",
    "      '\\nМаксимальное кол-во пропусков {}'.format(children.absences.max()))"
   ]
  },
  {
   "cell_type": "code",
   "execution_count": 14,
   "metadata": {},
   "outputs": [
    {
     "data": {
      "text/plain": [
       "27"
      ]
     },
     "metadata": {},
     "output_type": "display_data"
    }
   ],
   "source": [
    "display(children[children.absences > 17].absences.count())"
   ]
  },
  {
   "cell_type": "markdown",
   "metadata": {},
   "source": [
    "Количество выбросов 27. Однако, если увеличить верхний предел на 5 пропущенных занятий, то количество выбросов уменьшиться в два раза, поэтому я предлагаю увеличить верхнюю границу."
   ]
  },
  {
   "cell_type": "code",
   "execution_count": 15,
   "metadata": {},
   "outputs": [],
   "source": [
    "children = children[children.absences < 23]"
   ]
  },
  {
   "cell_type": "code",
   "execution_count": 16,
   "metadata": {},
   "outputs": [
    {
     "name": "stdout",
     "output_type": "stream",
     "text": [
      "<class 'pandas.core.frame.DataFrame'>\n",
      "Int64Index: 327 entries, 0 to 394\n",
      "Data columns (total 30 columns):\n",
      " #   Column               Non-Null Count  Dtype  \n",
      "---  ------               --------------  -----  \n",
      " 0   school               327 non-null    object \n",
      " 1   sex                  327 non-null    object \n",
      " 2   age                  327 non-null    int64  \n",
      " 3   address              314 non-null    object \n",
      " 4   famsize              307 non-null    object \n",
      " 5   Pstatus              293 non-null    object \n",
      " 6   Medu                 325 non-null    float64\n",
      " 7   Fedu                 307 non-null    float64\n",
      " 8   Mjob                 311 non-null    object \n",
      " 9   Fjob                 296 non-null    object \n",
      " 10  reason               312 non-null    object \n",
      " 11  guardian             299 non-null    object \n",
      " 12  traveltime           304 non-null    float64\n",
      " 13  studytime            322 non-null    float64\n",
      " 14  failures             309 non-null    float64\n",
      " 15  schoolsup            318 non-null    object \n",
      " 16  famsup               294 non-null    object \n",
      " 17  paid                 292 non-null    object \n",
      " 18  activities           315 non-null    object \n",
      " 19  nursery              315 non-null    object \n",
      " 20  studytime, granular  322 non-null    float64\n",
      " 21  higher               310 non-null    object \n",
      " 22  internet             300 non-null    object \n",
      " 23  romantic             299 non-null    object \n",
      " 24  famrel               304 non-null    float64\n",
      " 25  freetime             321 non-null    float64\n",
      " 26  goout                321 non-null    float64\n",
      " 27  health               314 non-null    float64\n",
      " 28  absences             327 non-null    float64\n",
      " 29  score                327 non-null    float64\n",
      "dtypes: float64(12), int64(1), object(17)\n",
      "memory usage: 79.2+ KB\n"
     ]
    }
   ],
   "source": [
    "children.info()"
   ]
  },
  {
   "cell_type": "code",
   "execution_count": 17,
   "metadata": {},
   "outputs": [],
   "source": [
    "number_list = children.columns[children.dtypes == 'float64']"
   ]
  },
  {
   "cell_type": "code",
   "execution_count": 18,
   "metadata": {},
   "outputs": [],
   "source": [
    "nonumber_list = children.columns[children.dtypes == 'object']"
   ]
  },
  {
   "cell_type": "code",
   "execution_count": 19,
   "metadata": {},
   "outputs": [],
   "source": [
    "#заполнение пустых значений в колонках с численными данными\n",
    "for col in number_list:\n",
    "    fillna_numbers(col)"
   ]
  },
  {
   "cell_type": "code",
   "execution_count": 20,
   "metadata": {},
   "outputs": [],
   "source": [
    "#для удобства анализа меняем значения колонках \"да/нет\" на 1, или 0\n",
    "for col in nonumber_list[9:]:\n",
    "    yes_no_function(col)"
   ]
  },
  {
   "cell_type": "markdown",
   "metadata": {},
   "source": [
    "Рассмотрим корреляцию между числовыми параметрами"
   ]
  },
  {
   "cell_type": "code",
   "execution_count": 21,
   "metadata": {},
   "outputs": [],
   "source": [
    "result_corr = children.corr()"
   ]
  },
  {
   "cell_type": "code",
   "execution_count": 22,
   "metadata": {},
   "outputs": [
    {
     "data": {
      "text/html": [
       "<div>\n",
       "<style scoped>\n",
       "    .dataframe tbody tr th:only-of-type {\n",
       "        vertical-align: middle;\n",
       "    }\n",
       "\n",
       "    .dataframe tbody tr th {\n",
       "        vertical-align: top;\n",
       "    }\n",
       "\n",
       "    .dataframe thead th {\n",
       "        text-align: right;\n",
       "    }\n",
       "</style>\n",
       "<table border=\"1\" class=\"dataframe\">\n",
       "  <thead>\n",
       "    <tr style=\"text-align: right;\">\n",
       "      <th></th>\n",
       "      <th>age</th>\n",
       "      <th>Medu</th>\n",
       "      <th>Fedu</th>\n",
       "      <th>traveltime</th>\n",
       "      <th>studytime</th>\n",
       "      <th>failures</th>\n",
       "      <th>schoolsup</th>\n",
       "      <th>famsup</th>\n",
       "      <th>paid</th>\n",
       "      <th>activities</th>\n",
       "      <th>nursery</th>\n",
       "      <th>studytime, granular</th>\n",
       "      <th>higher</th>\n",
       "      <th>internet</th>\n",
       "      <th>romantic</th>\n",
       "      <th>famrel</th>\n",
       "      <th>freetime</th>\n",
       "      <th>goout</th>\n",
       "      <th>health</th>\n",
       "      <th>absences</th>\n",
       "      <th>score</th>\n",
       "    </tr>\n",
       "  </thead>\n",
       "  <tbody>\n",
       "    <tr>\n",
       "      <th>age</th>\n",
       "      <td>1.000000</td>\n",
       "      <td>-0.138181</td>\n",
       "      <td>-0.143410</td>\n",
       "      <td>0.111292</td>\n",
       "      <td>0.004350</td>\n",
       "      <td>0.216454</td>\n",
       "      <td>-0.242470</td>\n",
       "      <td>-0.137271</td>\n",
       "      <td>-0.039806</td>\n",
       "      <td>-0.116237</td>\n",
       "      <td>-0.135245</td>\n",
       "      <td>-0.004350</td>\n",
       "      <td>-0.200225</td>\n",
       "      <td>-0.103810</td>\n",
       "      <td>0.167506</td>\n",
       "      <td>0.050238</td>\n",
       "      <td>0.003340</td>\n",
       "      <td>0.124179</td>\n",
       "      <td>-0.062086</td>\n",
       "      <td>0.240463</td>\n",
       "      <td>-0.129444</td>\n",
       "    </tr>\n",
       "    <tr>\n",
       "      <th>Medu</th>\n",
       "      <td>-0.138181</td>\n",
       "      <td>1.000000</td>\n",
       "      <td>0.603657</td>\n",
       "      <td>-0.175486</td>\n",
       "      <td>0.076547</td>\n",
       "      <td>-0.202886</td>\n",
       "      <td>-0.054331</td>\n",
       "      <td>0.177932</td>\n",
       "      <td>0.144254</td>\n",
       "      <td>0.114198</td>\n",
       "      <td>0.164648</td>\n",
       "      <td>-0.076547</td>\n",
       "      <td>0.207353</td>\n",
       "      <td>0.209253</td>\n",
       "      <td>0.055108</td>\n",
       "      <td>-0.021327</td>\n",
       "      <td>0.005792</td>\n",
       "      <td>0.054727</td>\n",
       "      <td>-0.062311</td>\n",
       "      <td>0.068626</td>\n",
       "      <td>0.185308</td>\n",
       "    </tr>\n",
       "    <tr>\n",
       "      <th>Fedu</th>\n",
       "      <td>-0.143410</td>\n",
       "      <td>0.603657</td>\n",
       "      <td>1.000000</td>\n",
       "      <td>-0.153865</td>\n",
       "      <td>-0.021482</td>\n",
       "      <td>-0.273771</td>\n",
       "      <td>0.051374</td>\n",
       "      <td>0.209960</td>\n",
       "      <td>0.079886</td>\n",
       "      <td>0.089841</td>\n",
       "      <td>0.160512</td>\n",
       "      <td>0.021482</td>\n",
       "      <td>0.203856</td>\n",
       "      <td>0.155025</td>\n",
       "      <td>0.023622</td>\n",
       "      <td>-0.028224</td>\n",
       "      <td>-0.016555</td>\n",
       "      <td>0.034271</td>\n",
       "      <td>0.012013</td>\n",
       "      <td>-0.011144</td>\n",
       "      <td>0.124255</td>\n",
       "    </tr>\n",
       "    <tr>\n",
       "      <th>traveltime</th>\n",
       "      <td>0.111292</td>\n",
       "      <td>-0.175486</td>\n",
       "      <td>-0.153865</td>\n",
       "      <td>1.000000</td>\n",
       "      <td>-0.099973</td>\n",
       "      <td>0.096013</td>\n",
       "      <td>0.000166</td>\n",
       "      <td>-0.042669</td>\n",
       "      <td>-0.043219</td>\n",
       "      <td>0.001856</td>\n",
       "      <td>-0.048661</td>\n",
       "      <td>0.099973</td>\n",
       "      <td>-0.149226</td>\n",
       "      <td>-0.077198</td>\n",
       "      <td>0.050898</td>\n",
       "      <td>-0.043732</td>\n",
       "      <td>0.000681</td>\n",
       "      <td>0.028189</td>\n",
       "      <td>-0.006823</td>\n",
       "      <td>-0.025645</td>\n",
       "      <td>-0.077855</td>\n",
       "    </tr>\n",
       "    <tr>\n",
       "      <th>studytime</th>\n",
       "      <td>0.004350</td>\n",
       "      <td>0.076547</td>\n",
       "      <td>-0.021482</td>\n",
       "      <td>-0.099973</td>\n",
       "      <td>1.000000</td>\n",
       "      <td>-0.140355</td>\n",
       "      <td>-0.000475</td>\n",
       "      <td>0.144743</td>\n",
       "      <td>0.215360</td>\n",
       "      <td>0.088092</td>\n",
       "      <td>0.063487</td>\n",
       "      <td>-1.000000</td>\n",
       "      <td>0.138830</td>\n",
       "      <td>0.099737</td>\n",
       "      <td>0.062266</td>\n",
       "      <td>0.041095</td>\n",
       "      <td>-0.137276</td>\n",
       "      <td>-0.018379</td>\n",
       "      <td>-0.086873</td>\n",
       "      <td>-0.095555</td>\n",
       "      <td>0.142392</td>\n",
       "    </tr>\n",
       "    <tr>\n",
       "      <th>failures</th>\n",
       "      <td>0.216454</td>\n",
       "      <td>-0.202886</td>\n",
       "      <td>-0.273771</td>\n",
       "      <td>0.096013</td>\n",
       "      <td>-0.140355</td>\n",
       "      <td>1.000000</td>\n",
       "      <td>0.092422</td>\n",
       "      <td>-0.084432</td>\n",
       "      <td>-0.143935</td>\n",
       "      <td>-0.054500</td>\n",
       "      <td>-0.119673</td>\n",
       "      <td>0.140355</td>\n",
       "      <td>-0.346944</td>\n",
       "      <td>-0.100629</td>\n",
       "      <td>0.078666</td>\n",
       "      <td>0.018737</td>\n",
       "      <td>0.138051</td>\n",
       "      <td>0.131525</td>\n",
       "      <td>0.055015</td>\n",
       "      <td>0.167263</td>\n",
       "      <td>-0.287214</td>\n",
       "    </tr>\n",
       "    <tr>\n",
       "      <th>schoolsup</th>\n",
       "      <td>-0.242470</td>\n",
       "      <td>-0.054331</td>\n",
       "      <td>0.051374</td>\n",
       "      <td>0.000166</td>\n",
       "      <td>-0.000475</td>\n",
       "      <td>0.092422</td>\n",
       "      <td>1.000000</td>\n",
       "      <td>0.075045</td>\n",
       "      <td>-0.059967</td>\n",
       "      <td>0.062111</td>\n",
       "      <td>0.013461</td>\n",
       "      <td>0.000475</td>\n",
       "      <td>0.028640</td>\n",
       "      <td>-0.002903</td>\n",
       "      <td>-0.010949</td>\n",
       "      <td>0.014828</td>\n",
       "      <td>-0.055120</td>\n",
       "      <td>-0.023140</td>\n",
       "      <td>-0.045809</td>\n",
       "      <td>-0.018729</td>\n",
       "      <td>-0.261016</td>\n",
       "    </tr>\n",
       "    <tr>\n",
       "      <th>famsup</th>\n",
       "      <td>-0.137271</td>\n",
       "      <td>0.177932</td>\n",
       "      <td>0.209960</td>\n",
       "      <td>-0.042669</td>\n",
       "      <td>0.144743</td>\n",
       "      <td>-0.084432</td>\n",
       "      <td>0.075045</td>\n",
       "      <td>1.000000</td>\n",
       "      <td>0.294081</td>\n",
       "      <td>-0.007272</td>\n",
       "      <td>0.033415</td>\n",
       "      <td>-0.144743</td>\n",
       "      <td>0.107469</td>\n",
       "      <td>0.088033</td>\n",
       "      <td>-0.002820</td>\n",
       "      <td>-0.018456</td>\n",
       "      <td>0.031947</td>\n",
       "      <td>-0.030159</td>\n",
       "      <td>0.029538</td>\n",
       "      <td>0.021373</td>\n",
       "      <td>-0.036733</td>\n",
       "    </tr>\n",
       "    <tr>\n",
       "      <th>paid</th>\n",
       "      <td>-0.039806</td>\n",
       "      <td>0.144254</td>\n",
       "      <td>0.079886</td>\n",
       "      <td>-0.043219</td>\n",
       "      <td>0.215360</td>\n",
       "      <td>-0.143935</td>\n",
       "      <td>-0.059967</td>\n",
       "      <td>0.294081</td>\n",
       "      <td>1.000000</td>\n",
       "      <td>0.025873</td>\n",
       "      <td>0.103814</td>\n",
       "      <td>-0.215360</td>\n",
       "      <td>0.169502</td>\n",
       "      <td>0.186852</td>\n",
       "      <td>0.099309</td>\n",
       "      <td>-0.024479</td>\n",
       "      <td>-0.086572</td>\n",
       "      <td>0.015879</td>\n",
       "      <td>-0.077706</td>\n",
       "      <td>-0.090210</td>\n",
       "      <td>0.002175</td>\n",
       "    </tr>\n",
       "    <tr>\n",
       "      <th>activities</th>\n",
       "      <td>-0.116237</td>\n",
       "      <td>0.114198</td>\n",
       "      <td>0.089841</td>\n",
       "      <td>0.001856</td>\n",
       "      <td>0.088092</td>\n",
       "      <td>-0.054500</td>\n",
       "      <td>0.062111</td>\n",
       "      <td>-0.007272</td>\n",
       "      <td>0.025873</td>\n",
       "      <td>1.000000</td>\n",
       "      <td>-0.000218</td>\n",
       "      <td>-0.088092</td>\n",
       "      <td>0.007510</td>\n",
       "      <td>0.073271</td>\n",
       "      <td>-0.011762</td>\n",
       "      <td>0.073207</td>\n",
       "      <td>0.078557</td>\n",
       "      <td>0.029966</td>\n",
       "      <td>0.027693</td>\n",
       "      <td>0.008864</td>\n",
       "      <td>0.057725</td>\n",
       "    </tr>\n",
       "    <tr>\n",
       "      <th>nursery</th>\n",
       "      <td>-0.135245</td>\n",
       "      <td>0.164648</td>\n",
       "      <td>0.160512</td>\n",
       "      <td>-0.048661</td>\n",
       "      <td>0.063487</td>\n",
       "      <td>-0.119673</td>\n",
       "      <td>0.013461</td>\n",
       "      <td>0.033415</td>\n",
       "      <td>0.103814</td>\n",
       "      <td>-0.000218</td>\n",
       "      <td>1.000000</td>\n",
       "      <td>-0.063487</td>\n",
       "      <td>0.131047</td>\n",
       "      <td>0.065371</td>\n",
       "      <td>0.035288</td>\n",
       "      <td>-0.034542</td>\n",
       "      <td>-0.068106</td>\n",
       "      <td>0.000757</td>\n",
       "      <td>-0.030406</td>\n",
       "      <td>0.036038</td>\n",
       "      <td>0.026543</td>\n",
       "    </tr>\n",
       "    <tr>\n",
       "      <th>studytime, granular</th>\n",
       "      <td>-0.004350</td>\n",
       "      <td>-0.076547</td>\n",
       "      <td>0.021482</td>\n",
       "      <td>0.099973</td>\n",
       "      <td>-1.000000</td>\n",
       "      <td>0.140355</td>\n",
       "      <td>0.000475</td>\n",
       "      <td>-0.144743</td>\n",
       "      <td>-0.215360</td>\n",
       "      <td>-0.088092</td>\n",
       "      <td>-0.063487</td>\n",
       "      <td>1.000000</td>\n",
       "      <td>-0.138830</td>\n",
       "      <td>-0.099737</td>\n",
       "      <td>-0.062266</td>\n",
       "      <td>-0.041095</td>\n",
       "      <td>0.137276</td>\n",
       "      <td>0.018379</td>\n",
       "      <td>0.086873</td>\n",
       "      <td>0.095555</td>\n",
       "      <td>-0.142392</td>\n",
       "    </tr>\n",
       "    <tr>\n",
       "      <th>higher</th>\n",
       "      <td>-0.200225</td>\n",
       "      <td>0.207353</td>\n",
       "      <td>0.203856</td>\n",
       "      <td>-0.149226</td>\n",
       "      <td>0.138830</td>\n",
       "      <td>-0.346944</td>\n",
       "      <td>0.028640</td>\n",
       "      <td>0.107469</td>\n",
       "      <td>0.169502</td>\n",
       "      <td>0.007510</td>\n",
       "      <td>0.131047</td>\n",
       "      <td>-0.138830</td>\n",
       "      <td>1.000000</td>\n",
       "      <td>0.112529</td>\n",
       "      <td>-0.018118</td>\n",
       "      <td>-0.009899</td>\n",
       "      <td>-0.059576</td>\n",
       "      <td>-0.017390</td>\n",
       "      <td>0.033963</td>\n",
       "      <td>-0.037494</td>\n",
       "      <td>0.086541</td>\n",
       "    </tr>\n",
       "    <tr>\n",
       "      <th>internet</th>\n",
       "      <td>-0.103810</td>\n",
       "      <td>0.209253</td>\n",
       "      <td>0.155025</td>\n",
       "      <td>-0.077198</td>\n",
       "      <td>0.099737</td>\n",
       "      <td>-0.100629</td>\n",
       "      <td>-0.002903</td>\n",
       "      <td>0.088033</td>\n",
       "      <td>0.186852</td>\n",
       "      <td>0.073271</td>\n",
       "      <td>0.065371</td>\n",
       "      <td>-0.099737</td>\n",
       "      <td>0.112529</td>\n",
       "      <td>1.000000</td>\n",
       "      <td>0.104957</td>\n",
       "      <td>0.091835</td>\n",
       "      <td>0.130944</td>\n",
       "      <td>0.145817</td>\n",
       "      <td>-0.069222</td>\n",
       "      <td>0.083827</td>\n",
       "      <td>0.068609</td>\n",
       "    </tr>\n",
       "    <tr>\n",
       "      <th>romantic</th>\n",
       "      <td>0.167506</td>\n",
       "      <td>0.055108</td>\n",
       "      <td>0.023622</td>\n",
       "      <td>0.050898</td>\n",
       "      <td>0.062266</td>\n",
       "      <td>0.078666</td>\n",
       "      <td>-0.010949</td>\n",
       "      <td>-0.002820</td>\n",
       "      <td>0.099309</td>\n",
       "      <td>-0.011762</td>\n",
       "      <td>0.035288</td>\n",
       "      <td>-0.062266</td>\n",
       "      <td>-0.018118</td>\n",
       "      <td>0.104957</td>\n",
       "      <td>1.000000</td>\n",
       "      <td>-0.095163</td>\n",
       "      <td>-0.008052</td>\n",
       "      <td>0.072901</td>\n",
       "      <td>-0.006023</td>\n",
       "      <td>0.146959</td>\n",
       "      <td>-0.042278</td>\n",
       "    </tr>\n",
       "    <tr>\n",
       "      <th>famrel</th>\n",
       "      <td>0.050238</td>\n",
       "      <td>-0.021327</td>\n",
       "      <td>-0.028224</td>\n",
       "      <td>-0.043732</td>\n",
       "      <td>0.041095</td>\n",
       "      <td>0.018737</td>\n",
       "      <td>0.014828</td>\n",
       "      <td>-0.018456</td>\n",
       "      <td>-0.024479</td>\n",
       "      <td>0.073207</td>\n",
       "      <td>-0.034542</td>\n",
       "      <td>-0.041095</td>\n",
       "      <td>-0.009899</td>\n",
       "      <td>0.091835</td>\n",
       "      <td>-0.095163</td>\n",
       "      <td>1.000000</td>\n",
       "      <td>0.157180</td>\n",
       "      <td>0.033691</td>\n",
       "      <td>0.119661</td>\n",
       "      <td>-0.114387</td>\n",
       "      <td>0.057390</td>\n",
       "    </tr>\n",
       "    <tr>\n",
       "      <th>freetime</th>\n",
       "      <td>0.003340</td>\n",
       "      <td>0.005792</td>\n",
       "      <td>-0.016555</td>\n",
       "      <td>0.000681</td>\n",
       "      <td>-0.137276</td>\n",
       "      <td>0.138051</td>\n",
       "      <td>-0.055120</td>\n",
       "      <td>0.031947</td>\n",
       "      <td>-0.086572</td>\n",
       "      <td>0.078557</td>\n",
       "      <td>-0.068106</td>\n",
       "      <td>0.137276</td>\n",
       "      <td>-0.059576</td>\n",
       "      <td>0.130944</td>\n",
       "      <td>-0.008052</td>\n",
       "      <td>0.157180</td>\n",
       "      <td>1.000000</td>\n",
       "      <td>0.282252</td>\n",
       "      <td>0.063106</td>\n",
       "      <td>0.046658</td>\n",
       "      <td>-0.021202</td>\n",
       "    </tr>\n",
       "    <tr>\n",
       "      <th>goout</th>\n",
       "      <td>0.124179</td>\n",
       "      <td>0.054727</td>\n",
       "      <td>0.034271</td>\n",
       "      <td>0.028189</td>\n",
       "      <td>-0.018379</td>\n",
       "      <td>0.131525</td>\n",
       "      <td>-0.023140</td>\n",
       "      <td>-0.030159</td>\n",
       "      <td>0.015879</td>\n",
       "      <td>0.029966</td>\n",
       "      <td>0.000757</td>\n",
       "      <td>0.018379</td>\n",
       "      <td>-0.017390</td>\n",
       "      <td>0.145817</td>\n",
       "      <td>0.072901</td>\n",
       "      <td>0.033691</td>\n",
       "      <td>0.282252</td>\n",
       "      <td>1.000000</td>\n",
       "      <td>0.022608</td>\n",
       "      <td>0.132477</td>\n",
       "      <td>-0.205806</td>\n",
       "    </tr>\n",
       "    <tr>\n",
       "      <th>health</th>\n",
       "      <td>-0.062086</td>\n",
       "      <td>-0.062311</td>\n",
       "      <td>0.012013</td>\n",
       "      <td>-0.006823</td>\n",
       "      <td>-0.086873</td>\n",
       "      <td>0.055015</td>\n",
       "      <td>-0.045809</td>\n",
       "      <td>0.029538</td>\n",
       "      <td>-0.077706</td>\n",
       "      <td>0.027693</td>\n",
       "      <td>-0.030406</td>\n",
       "      <td>0.086873</td>\n",
       "      <td>0.033963</td>\n",
       "      <td>-0.069222</td>\n",
       "      <td>-0.006023</td>\n",
       "      <td>0.119661</td>\n",
       "      <td>0.063106</td>\n",
       "      <td>0.022608</td>\n",
       "      <td>1.000000</td>\n",
       "      <td>-0.063386</td>\n",
       "      <td>-0.055073</td>\n",
       "    </tr>\n",
       "    <tr>\n",
       "      <th>absences</th>\n",
       "      <td>0.240463</td>\n",
       "      <td>0.068626</td>\n",
       "      <td>-0.011144</td>\n",
       "      <td>-0.025645</td>\n",
       "      <td>-0.095555</td>\n",
       "      <td>0.167263</td>\n",
       "      <td>-0.018729</td>\n",
       "      <td>0.021373</td>\n",
       "      <td>-0.090210</td>\n",
       "      <td>0.008864</td>\n",
       "      <td>0.036038</td>\n",
       "      <td>0.095555</td>\n",
       "      <td>-0.037494</td>\n",
       "      <td>0.083827</td>\n",
       "      <td>0.146959</td>\n",
       "      <td>-0.114387</td>\n",
       "      <td>0.046658</td>\n",
       "      <td>0.132477</td>\n",
       "      <td>-0.063386</td>\n",
       "      <td>1.000000</td>\n",
       "      <td>-0.233326</td>\n",
       "    </tr>\n",
       "    <tr>\n",
       "      <th>score</th>\n",
       "      <td>-0.129444</td>\n",
       "      <td>0.185308</td>\n",
       "      <td>0.124255</td>\n",
       "      <td>-0.077855</td>\n",
       "      <td>0.142392</td>\n",
       "      <td>-0.287214</td>\n",
       "      <td>-0.261016</td>\n",
       "      <td>-0.036733</td>\n",
       "      <td>0.002175</td>\n",
       "      <td>0.057725</td>\n",
       "      <td>0.026543</td>\n",
       "      <td>-0.142392</td>\n",
       "      <td>0.086541</td>\n",
       "      <td>0.068609</td>\n",
       "      <td>-0.042278</td>\n",
       "      <td>0.057390</td>\n",
       "      <td>-0.021202</td>\n",
       "      <td>-0.205806</td>\n",
       "      <td>-0.055073</td>\n",
       "      <td>-0.233326</td>\n",
       "      <td>1.000000</td>\n",
       "    </tr>\n",
       "  </tbody>\n",
       "</table>\n",
       "</div>"
      ],
      "text/plain": [
       "                          age      Medu      Fedu  traveltime  studytime  \\\n",
       "age                  1.000000 -0.138181 -0.143410    0.111292   0.004350   \n",
       "Medu                -0.138181  1.000000  0.603657   -0.175486   0.076547   \n",
       "Fedu                -0.143410  0.603657  1.000000   -0.153865  -0.021482   \n",
       "traveltime           0.111292 -0.175486 -0.153865    1.000000  -0.099973   \n",
       "studytime            0.004350  0.076547 -0.021482   -0.099973   1.000000   \n",
       "failures             0.216454 -0.202886 -0.273771    0.096013  -0.140355   \n",
       "schoolsup           -0.242470 -0.054331  0.051374    0.000166  -0.000475   \n",
       "famsup              -0.137271  0.177932  0.209960   -0.042669   0.144743   \n",
       "paid                -0.039806  0.144254  0.079886   -0.043219   0.215360   \n",
       "activities          -0.116237  0.114198  0.089841    0.001856   0.088092   \n",
       "nursery             -0.135245  0.164648  0.160512   -0.048661   0.063487   \n",
       "studytime, granular -0.004350 -0.076547  0.021482    0.099973  -1.000000   \n",
       "higher              -0.200225  0.207353  0.203856   -0.149226   0.138830   \n",
       "internet            -0.103810  0.209253  0.155025   -0.077198   0.099737   \n",
       "romantic             0.167506  0.055108  0.023622    0.050898   0.062266   \n",
       "famrel               0.050238 -0.021327 -0.028224   -0.043732   0.041095   \n",
       "freetime             0.003340  0.005792 -0.016555    0.000681  -0.137276   \n",
       "goout                0.124179  0.054727  0.034271    0.028189  -0.018379   \n",
       "health              -0.062086 -0.062311  0.012013   -0.006823  -0.086873   \n",
       "absences             0.240463  0.068626 -0.011144   -0.025645  -0.095555   \n",
       "score               -0.129444  0.185308  0.124255   -0.077855   0.142392   \n",
       "\n",
       "                     failures  schoolsup    famsup      paid  activities  \\\n",
       "age                  0.216454  -0.242470 -0.137271 -0.039806   -0.116237   \n",
       "Medu                -0.202886  -0.054331  0.177932  0.144254    0.114198   \n",
       "Fedu                -0.273771   0.051374  0.209960  0.079886    0.089841   \n",
       "traveltime           0.096013   0.000166 -0.042669 -0.043219    0.001856   \n",
       "studytime           -0.140355  -0.000475  0.144743  0.215360    0.088092   \n",
       "failures             1.000000   0.092422 -0.084432 -0.143935   -0.054500   \n",
       "schoolsup            0.092422   1.000000  0.075045 -0.059967    0.062111   \n",
       "famsup              -0.084432   0.075045  1.000000  0.294081   -0.007272   \n",
       "paid                -0.143935  -0.059967  0.294081  1.000000    0.025873   \n",
       "activities          -0.054500   0.062111 -0.007272  0.025873    1.000000   \n",
       "nursery             -0.119673   0.013461  0.033415  0.103814   -0.000218   \n",
       "studytime, granular  0.140355   0.000475 -0.144743 -0.215360   -0.088092   \n",
       "higher              -0.346944   0.028640  0.107469  0.169502    0.007510   \n",
       "internet            -0.100629  -0.002903  0.088033  0.186852    0.073271   \n",
       "romantic             0.078666  -0.010949 -0.002820  0.099309   -0.011762   \n",
       "famrel               0.018737   0.014828 -0.018456 -0.024479    0.073207   \n",
       "freetime             0.138051  -0.055120  0.031947 -0.086572    0.078557   \n",
       "goout                0.131525  -0.023140 -0.030159  0.015879    0.029966   \n",
       "health               0.055015  -0.045809  0.029538 -0.077706    0.027693   \n",
       "absences             0.167263  -0.018729  0.021373 -0.090210    0.008864   \n",
       "score               -0.287214  -0.261016 -0.036733  0.002175    0.057725   \n",
       "\n",
       "                      nursery  studytime, granular    higher  internet  \\\n",
       "age                 -0.135245            -0.004350 -0.200225 -0.103810   \n",
       "Medu                 0.164648            -0.076547  0.207353  0.209253   \n",
       "Fedu                 0.160512             0.021482  0.203856  0.155025   \n",
       "traveltime          -0.048661             0.099973 -0.149226 -0.077198   \n",
       "studytime            0.063487            -1.000000  0.138830  0.099737   \n",
       "failures            -0.119673             0.140355 -0.346944 -0.100629   \n",
       "schoolsup            0.013461             0.000475  0.028640 -0.002903   \n",
       "famsup               0.033415            -0.144743  0.107469  0.088033   \n",
       "paid                 0.103814            -0.215360  0.169502  0.186852   \n",
       "activities          -0.000218            -0.088092  0.007510  0.073271   \n",
       "nursery              1.000000            -0.063487  0.131047  0.065371   \n",
       "studytime, granular -0.063487             1.000000 -0.138830 -0.099737   \n",
       "higher               0.131047            -0.138830  1.000000  0.112529   \n",
       "internet             0.065371            -0.099737  0.112529  1.000000   \n",
       "romantic             0.035288            -0.062266 -0.018118  0.104957   \n",
       "famrel              -0.034542            -0.041095 -0.009899  0.091835   \n",
       "freetime            -0.068106             0.137276 -0.059576  0.130944   \n",
       "goout                0.000757             0.018379 -0.017390  0.145817   \n",
       "health              -0.030406             0.086873  0.033963 -0.069222   \n",
       "absences             0.036038             0.095555 -0.037494  0.083827   \n",
       "score                0.026543            -0.142392  0.086541  0.068609   \n",
       "\n",
       "                     romantic    famrel  freetime     goout    health  \\\n",
       "age                  0.167506  0.050238  0.003340  0.124179 -0.062086   \n",
       "Medu                 0.055108 -0.021327  0.005792  0.054727 -0.062311   \n",
       "Fedu                 0.023622 -0.028224 -0.016555  0.034271  0.012013   \n",
       "traveltime           0.050898 -0.043732  0.000681  0.028189 -0.006823   \n",
       "studytime            0.062266  0.041095 -0.137276 -0.018379 -0.086873   \n",
       "failures             0.078666  0.018737  0.138051  0.131525  0.055015   \n",
       "schoolsup           -0.010949  0.014828 -0.055120 -0.023140 -0.045809   \n",
       "famsup              -0.002820 -0.018456  0.031947 -0.030159  0.029538   \n",
       "paid                 0.099309 -0.024479 -0.086572  0.015879 -0.077706   \n",
       "activities          -0.011762  0.073207  0.078557  0.029966  0.027693   \n",
       "nursery              0.035288 -0.034542 -0.068106  0.000757 -0.030406   \n",
       "studytime, granular -0.062266 -0.041095  0.137276  0.018379  0.086873   \n",
       "higher              -0.018118 -0.009899 -0.059576 -0.017390  0.033963   \n",
       "internet             0.104957  0.091835  0.130944  0.145817 -0.069222   \n",
       "romantic             1.000000 -0.095163 -0.008052  0.072901 -0.006023   \n",
       "famrel              -0.095163  1.000000  0.157180  0.033691  0.119661   \n",
       "freetime            -0.008052  0.157180  1.000000  0.282252  0.063106   \n",
       "goout                0.072901  0.033691  0.282252  1.000000  0.022608   \n",
       "health              -0.006023  0.119661  0.063106  0.022608  1.000000   \n",
       "absences             0.146959 -0.114387  0.046658  0.132477 -0.063386   \n",
       "score               -0.042278  0.057390 -0.021202 -0.205806 -0.055073   \n",
       "\n",
       "                     absences     score  \n",
       "age                  0.240463 -0.129444  \n",
       "Medu                 0.068626  0.185308  \n",
       "Fedu                -0.011144  0.124255  \n",
       "traveltime          -0.025645 -0.077855  \n",
       "studytime           -0.095555  0.142392  \n",
       "failures             0.167263 -0.287214  \n",
       "schoolsup           -0.018729 -0.261016  \n",
       "famsup               0.021373 -0.036733  \n",
       "paid                -0.090210  0.002175  \n",
       "activities           0.008864  0.057725  \n",
       "nursery              0.036038  0.026543  \n",
       "studytime, granular  0.095555 -0.142392  \n",
       "higher              -0.037494  0.086541  \n",
       "internet             0.083827  0.068609  \n",
       "romantic             0.146959 -0.042278  \n",
       "famrel              -0.114387  0.057390  \n",
       "freetime             0.046658 -0.021202  \n",
       "goout                0.132477 -0.205806  \n",
       "health              -0.063386 -0.055073  \n",
       "absences             1.000000 -0.233326  \n",
       "score               -0.233326  1.000000  "
      ]
     },
     "metadata": {},
     "output_type": "display_data"
    }
   ],
   "source": [
    "display(result_corr)"
   ]
  },
  {
   "cell_type": "markdown",
   "metadata": {},
   "source": [
    "На 100% скоррелированные величинами являются studytime, granular и studytime. Если посмотреть эти два столбца, то видно что значения studytime, granular это значения studytime умноженное на -3. Других практически полностью скоррелированных зависимостей не выявлено "
   ]
  },
  {
   "cell_type": "code",
   "execution_count": 113,
   "metadata": {},
   "outputs": [
    {
     "data": {
      "text/html": [
       "<div>\n",
       "<style scoped>\n",
       "    .dataframe tbody tr th:only-of-type {\n",
       "        vertical-align: middle;\n",
       "    }\n",
       "\n",
       "    .dataframe tbody tr th {\n",
       "        vertical-align: top;\n",
       "    }\n",
       "\n",
       "    .dataframe thead th {\n",
       "        text-align: right;\n",
       "    }\n",
       "</style>\n",
       "<table border=\"1\" class=\"dataframe\">\n",
       "  <thead>\n",
       "    <tr style=\"text-align: right;\">\n",
       "      <th></th>\n",
       "      <th>studytime</th>\n",
       "      <th>studytime, granular</th>\n",
       "    </tr>\n",
       "  </thead>\n",
       "  <tbody>\n",
       "    <tr>\n",
       "      <th>0</th>\n",
       "      <td>2.0</td>\n",
       "      <td>-6.0</td>\n",
       "    </tr>\n",
       "    <tr>\n",
       "      <th>1</th>\n",
       "      <td>2.0</td>\n",
       "      <td>-6.0</td>\n",
       "    </tr>\n",
       "    <tr>\n",
       "      <th>2</th>\n",
       "      <td>2.0</td>\n",
       "      <td>-6.0</td>\n",
       "    </tr>\n",
       "    <tr>\n",
       "      <th>3</th>\n",
       "      <td>3.0</td>\n",
       "      <td>-9.0</td>\n",
       "    </tr>\n",
       "    <tr>\n",
       "      <th>4</th>\n",
       "      <td>2.0</td>\n",
       "      <td>-6.0</td>\n",
       "    </tr>\n",
       "    <tr>\n",
       "      <th>...</th>\n",
       "      <td>...</td>\n",
       "      <td>...</td>\n",
       "    </tr>\n",
       "    <tr>\n",
       "      <th>388</th>\n",
       "      <td>2.0</td>\n",
       "      <td>-6.0</td>\n",
       "    </tr>\n",
       "    <tr>\n",
       "      <th>391</th>\n",
       "      <td>1.0</td>\n",
       "      <td>-3.0</td>\n",
       "    </tr>\n",
       "    <tr>\n",
       "      <th>392</th>\n",
       "      <td>1.0</td>\n",
       "      <td>-3.0</td>\n",
       "    </tr>\n",
       "    <tr>\n",
       "      <th>393</th>\n",
       "      <td>1.0</td>\n",
       "      <td>-3.0</td>\n",
       "    </tr>\n",
       "    <tr>\n",
       "      <th>394</th>\n",
       "      <td>1.0</td>\n",
       "      <td>-3.0</td>\n",
       "    </tr>\n",
       "  </tbody>\n",
       "</table>\n",
       "<p>327 rows × 2 columns</p>\n",
       "</div>"
      ],
      "text/plain": [
       "     studytime  studytime, granular\n",
       "0          2.0                 -6.0\n",
       "1          2.0                 -6.0\n",
       "2          2.0                 -6.0\n",
       "3          3.0                 -9.0\n",
       "4          2.0                 -6.0\n",
       "..         ...                  ...\n",
       "388        2.0                 -6.0\n",
       "391        1.0                 -3.0\n",
       "392        1.0                 -3.0\n",
       "393        1.0                 -3.0\n",
       "394        1.0                 -3.0\n",
       "\n",
       "[327 rows x 2 columns]"
      ]
     },
     "metadata": {},
     "output_type": "display_data"
    }
   ],
   "source": [
    "display(children[['studytime', 'studytime, granular']])"
   ]
  },
  {
   "cell_type": "code",
   "execution_count": 118,
   "metadata": {},
   "outputs": [],
   "source": [
    "#удалим столбец studytime, granular\n",
    "children.drop('studytime, granular', axis=1, inplace=True)"
   ]
  },
  {
   "cell_type": "code",
   "execution_count": 27,
   "metadata": {},
   "outputs": [
    {
     "data": {
      "text/plain": [
       "paid                   0.002175\n",
       "freetime               0.021202\n",
       "nursery                0.026543\n",
       "famsup                 0.036733\n",
       "romantic               0.042278\n",
       "health                 0.055073\n",
       "famrel                 0.057390\n",
       "activities             0.057725\n",
       "internet               0.068609\n",
       "traveltime             0.077855\n",
       "higher                 0.086541\n",
       "Fedu                   0.124255\n",
       "age                    0.129444\n",
       "studytime, granular    0.142392\n",
       "studytime              0.142392\n",
       "Medu                   0.185308\n",
       "goout                  0.205806\n",
       "absences               0.233326\n",
       "schoolsup              0.261016\n",
       "failures               0.287214\n",
       "score                  1.000000\n",
       "Name: score, dtype: float64"
      ]
     },
     "metadata": {},
     "output_type": "display_data"
    }
   ],
   "source": [
    "display(abs(result_corr.score).sort_values())"
   ]
  },
  {
   "cell_type": "markdown",
   "metadata": {},
   "source": [
    "Наибольшее влияние на количество баллов по математике оказывают следующие признаки - failures, schoolsup, absences, goout, Medu. Наименьшее влияние - paid, freetime, nursery, famsup, romantic.    "
   ]
  },
  {
   "cell_type": "code",
   "execution_count": 28,
   "metadata": {},
   "outputs": [
    {
     "data": {
      "image/png": "[encoded data removed]",
      "text/plain": [
       "<Figure size 1008x288 with 1 Axes>"
      ]
     },
     "metadata": {
      "needs_background": "light"
     },
     "output_type": "display_data"
    },
    {
     "data": {
      "image/png": "[encoded data removed]",
      "text/plain": [
       "<Figure size 1008x288 with 1 Axes>"
      ]
     },
     "metadata": {
      "needs_background": "light"
     },
     "output_type": "display_data"
    },
    {
     "data": {
      "image/png": "[encoded data removed]",
      "text/plain": [
       "<Figure size 1008x288 with 1 Axes>"
      ]
     },
     "metadata": {
      "needs_background": "light"
     },
     "output_type": "display_data"
    },
    {
     "data": {
      "image/png": "[encoded data removed]",
      "text/plain": [
       "<Figure size 1008x288 with 1 Axes>"
      ]
     },
     "metadata": {
      "needs_background": "light"
     },
     "output_type": "display_data"
    },
    {
     "data": {
      "image/png": "[encoded data removed]",
      "text/plain": [
       "<Figure size 1008x288 with 1 Axes>"
      ]
     },
     "metadata": {
      "needs_background": "light"
     },
     "output_type": "display_data"
    },
    {
     "data": {
      "image/png": "[encoded data removed]",
      "text/plain": [
       "<Figure size 1008x288 with 1 Axes>"
      ]
     },
     "metadata": {
      "needs_background": "light"
     },
     "output_type": "display_data"
    },
    {
     "data": {
      "image/png": "[encoded data removed]",
      "text/plain": [
       "<Figure size 1008x288 with 1 Axes>"
      ]
     },
     "metadata": {
      "needs_background": "light"
     },
     "output_type": "display_data"
    },
    {
     "data": {
      "image/png": "[encoded data removed]",
      "text/plain": [
       "<Figure size 1008x288 with 1 Axes>"
      ]
     },
     "metadata": {
      "needs_background": "light"
     },
     "output_type": "display_data"
    },
    {
     "data": {
      "image/png": "[encoded data removed]",
      "text/plain": [
       "<Figure size 1008x288 with 1 Axes>"
      ]
     },
     "metadata": {
      "needs_background": "light"
     },
     "output_type": "display_data"
    }
   ],
   "source": [
    "#строим графики\n",
    "for col in nonumber_list[:9]:\n",
    "    get_boxplot(col)"
   ]
  },
  {
   "cell_type": "markdown",
   "metadata": {},
   "source": [
    "Предварительно кажется, что в наибольшей степени итоговый бал зависит от следующих признаков - Mjob, address.\n",
    "Определить признаки, невлияющие на итоговую оценку, затруднительно. \n",
    "Проведем статистическую оценку для номинативных параметров, а также для численных параметров, имеющих дискретный набор значений - (\"да/нет\", от 1 до 5 и тд)"
   ]
  },
  {
   "cell_type": "code",
   "execution_count": 31,
   "metadata": {},
   "outputs": [
    {
     "name": "stdout",
     "output_type": "stream",
     "text": [
      "Найдены статистически значимые различия для колонки address\n",
      "Найдены статистически значимые различия для колонки Mjob\n",
      "Найдены статистически значимые различия для колонки schoolsup\n"
     ]
    }
   ],
   "source": [
    "for col in nonumber_list:\n",
    "    get_stat_dif(col)"
   ]
  },
  {
   "cell_type": "markdown",
   "metadata": {},
   "source": [
    "Выполним подобное исследование с численными столбцами, за исключением absences и самособой scores"
   ]
  },
  {
   "cell_type": "code",
   "execution_count": 32,
   "metadata": {},
   "outputs": [],
   "source": [
    "number_list = number_list.delete(5)\n",
    "#мы удаляли один столбец (studytime, granular) из данных"
   ]
  },
  {
   "cell_type": "code",
   "execution_count": 33,
   "metadata": {},
   "outputs": [
    {
     "name": "stdout",
     "output_type": "stream",
     "text": [
      "Найдены статистически значимые различия для колонки Medu\n",
      "Найдены статистически значимые различия для колонки studytime\n",
      "Найдены статистически значимые различия для колонки failures\n",
      "Найдены статистически значимые различия для колонки goout\n"
     ]
    }
   ],
   "source": [
    "for col in number_list[:-2]:\n",
    "    get_stat_dif(col)"
   ]
  },
  {
   "cell_type": "markdown",
   "metadata": {},
   "source": [
    "## Выводы"
   ]
  },
  {
   "cell_type": "markdown",
   "metadata": {},
   "source": [
    "1) в данных мало отсутствующих значений (не более 10% в каждом из признаков)"
   ]
  },
  {
   "cell_type": "markdown",
   "metadata": {},
   "source": [
    "2) данные практически чистые, малое количество выбросов. Исключение: 37 детей, которые по неизвестной причине, имеют нулевое количество балов"
   ]
  },
  {
   "cell_type": "markdown",
   "metadata": {},
   "source": [
    "3) наиболее значимые параметры, которые предлагается в дальнейшем использовать в модели: address, Mjob, schoolsup, Medu, studytime, failures, goout, absences       "
   ]
  },
  {
   "cell_type": "markdown",
   "metadata": {},
   "source": [
    "4) несколько удивительно, что дополнительные платные занятия по математике практически не оказывают эффекта на итоговую оценку по математике. Также интересным является влияние образования и работы матери, при этом такие же отцовские параметры не оказывают должного влияния"
   ]
  }
 ],
 "metadata": {
  "kernelspec": {
   "display_name": "Python 3",
   "language": "python",
   "name": "python3"
  },
  "language_info": {
   "codemirror_mode": {
    "name": "ipython",
    "version": 3
   },
   "file_extension": ".py",
   "mimetype": "text/x-python",
   "name": "python",
   "nbconvert_exporter": "python",
   "pygments_lexer": "ipython3",
   "version": "3.8.3"
  }
 },
 "nbformat": 4,
 "nbformat_minor": 4
}
